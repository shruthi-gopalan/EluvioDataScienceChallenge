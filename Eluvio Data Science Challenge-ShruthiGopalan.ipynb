{
 "cells": [
  {
   "cell_type": "markdown",
   "metadata": {},
   "source": [
    "Eluvio Data Science Challenge"
   ]
  },
  {
   "cell_type": "code",
   "execution_count": 2,
   "metadata": {},
   "outputs": [
    {
     "data": {
      "text/html": [
       "<div>\n",
       "<style scoped>\n",
       "    .dataframe tbody tr th:only-of-type {\n",
       "        vertical-align: middle;\n",
       "    }\n",
       "\n",
       "    .dataframe tbody tr th {\n",
       "        vertical-align: top;\n",
       "    }\n",
       "\n",
       "    .dataframe thead th {\n",
       "        text-align: right;\n",
       "    }\n",
       "</style>\n",
       "<table border=\"1\" class=\"dataframe\">\n",
       "  <thead>\n",
       "    <tr style=\"text-align: right;\">\n",
       "      <th></th>\n",
       "      <th>time_created</th>\n",
       "      <th>date_created</th>\n",
       "      <th>up_votes</th>\n",
       "      <th>down_votes</th>\n",
       "      <th>title</th>\n",
       "      <th>over_18</th>\n",
       "      <th>author</th>\n",
       "      <th>category</th>\n",
       "    </tr>\n",
       "  </thead>\n",
       "  <tbody>\n",
       "    <tr>\n",
       "      <th>0</th>\n",
       "      <td>13903 days 03:34:06</td>\n",
       "      <td>2008-01-25</td>\n",
       "      <td>3</td>\n",
       "      <td>0</td>\n",
       "      <td>Scores killed in Pakistan clashes</td>\n",
       "      <td>False</td>\n",
       "      <td>polar</td>\n",
       "      <td>worldnews</td>\n",
       "    </tr>\n",
       "    <tr>\n",
       "      <th>1</th>\n",
       "      <td>13903 days 03:34:35</td>\n",
       "      <td>2008-01-25</td>\n",
       "      <td>2</td>\n",
       "      <td>0</td>\n",
       "      <td>Japan resumes refuelling mission</td>\n",
       "      <td>False</td>\n",
       "      <td>polar</td>\n",
       "      <td>worldnews</td>\n",
       "    </tr>\n",
       "    <tr>\n",
       "      <th>2</th>\n",
       "      <td>13903 days 03:42:03</td>\n",
       "      <td>2008-01-25</td>\n",
       "      <td>3</td>\n",
       "      <td>0</td>\n",
       "      <td>US presses Egypt on Gaza border</td>\n",
       "      <td>False</td>\n",
       "      <td>polar</td>\n",
       "      <td>worldnews</td>\n",
       "    </tr>\n",
       "    <tr>\n",
       "      <th>3</th>\n",
       "      <td>13903 days 03:54:50</td>\n",
       "      <td>2008-01-25</td>\n",
       "      <td>1</td>\n",
       "      <td>0</td>\n",
       "      <td>Jump-start economy: Give health care to all</td>\n",
       "      <td>False</td>\n",
       "      <td>fadi420</td>\n",
       "      <td>worldnews</td>\n",
       "    </tr>\n",
       "    <tr>\n",
       "      <th>4</th>\n",
       "      <td>13903 days 15:25:20</td>\n",
       "      <td>2008-01-25</td>\n",
       "      <td>4</td>\n",
       "      <td>0</td>\n",
       "      <td>Council of Europe bashes EU&amp;UN terror blacklist</td>\n",
       "      <td>False</td>\n",
       "      <td>mhermans</td>\n",
       "      <td>worldnews</td>\n",
       "    </tr>\n",
       "  </tbody>\n",
       "</table>\n",
       "</div>"
      ],
      "text/plain": [
       "         time_created date_created  up_votes  down_votes  \\\n",
       "0 13903 days 03:34:06   2008-01-25         3           0   \n",
       "1 13903 days 03:34:35   2008-01-25         2           0   \n",
       "2 13903 days 03:42:03   2008-01-25         3           0   \n",
       "3 13903 days 03:54:50   2008-01-25         1           0   \n",
       "4 13903 days 15:25:20   2008-01-25         4           0   \n",
       "\n",
       "                                             title  over_18    author  \\\n",
       "0                Scores killed in Pakistan clashes    False     polar   \n",
       "1                 Japan resumes refuelling mission    False     polar   \n",
       "2                  US presses Egypt on Gaza border    False     polar   \n",
       "3     Jump-start economy: Give health care to all     False   fadi420   \n",
       "4  Council of Europe bashes EU&UN terror blacklist    False  mhermans   \n",
       "\n",
       "    category  \n",
       "0  worldnews  \n",
       "1  worldnews  \n",
       "2  worldnews  \n",
       "3  worldnews  \n",
       "4  worldnews  "
      ]
     },
     "execution_count": 2,
     "metadata": {},
     "output_type": "execute_result"
    }
   ],
   "source": [
    "#importing data and reading files\n",
    "\n",
    "import csv\n",
    "import datetime\n",
    "import pandas as pd\n",
    "import numpy as np\n",
    "import matplotlib \n",
    "from matplotlib import pyplot as plt\n",
    "  \n",
    "df = pd.read_csv('Eluvio_DS_Challenge.csv')\n",
    "df['date_created'] = pd.to_datetime(df['date_created'])\n",
    "df['time_created'] = pd.to_timedelta(df['time_created'], unit='s')\n",
    "df['up_votes'] = pd.to_numeric(df['up_votes'])\n",
    "pd.to_numeric\n",
    "df.head()"
   ]
  },
  {
   "cell_type": "code",
   "execution_count": 3,
   "metadata": {},
   "outputs": [
    {
     "name": "stdout",
     "output_type": "stream",
     "text": [
      "Number of rows:  509236\n",
      "Number of columns:  8\n",
      "Column names:  ['time_created', 'date_created', 'up_votes', 'down_votes', 'title', 'over_18', 'author', 'category']\n",
      "\n",
      "Total Number of Up_Votes:  57154756\n",
      "Total Number of Down_Votes:  0\n",
      "Highest Number of Up_Votes:  21253\n",
      "Article Title with Highest Number of Up_Votes:  A biotech startup has managed to 3-D print fake rhino horns that carry the same genetic fingerprint as the actual horn. The company plans to flood Chinese rhino horn market at one-eighth of the price of the original, undercutting the price poachers can get and forcing them out eventually.\n",
      "Lowest Number of Up_Votes:  0\n",
      "Number of Articles with 0 Up-Votes:  93555\n",
      "\n",
      "Total Unique Authors:  85807\n"
     ]
    }
   ],
   "source": [
    "#learning about the data\n",
    "print('Number of rows: ', df.shape[0])\n",
    "print('Number of columns: ', df.shape[1])\n",
    "print('Column names: ', list(df.columns))\n",
    "\n",
    "zero_up_votes = 0\n",
    "for i in df['up_votes']:\n",
    "    if i == 0:\n",
    "        zero_up_votes += 1\n",
    "\n",
    "print('\\nTotal Number of Up_Votes: ', df['up_votes'].sum())\n",
    "print('Total Number of Down_Votes: ', df['down_votes'].sum())\n",
    "print('Highest Number of Up_Votes: ', df['up_votes'].max())\n",
    "print('Article Title with Highest Number of Up_Votes: ', df['title'][df['up_votes'].idxmax()])\n",
    "print('Lowest Number of Up_Votes: ', df['up_votes'].min())\n",
    "print('Number of Articles with 0 Up-Votes: ', zero_up_votes)\n",
    "\n",
    "print('\\nTotal Unique Authors: ', len(df['author'].unique()))"
   ]
  },
  {
   "cell_type": "markdown",
   "metadata": {},
   "source": [
    "Which authors wrote the most articles?"
   ]
  },
  {
   "cell_type": "code",
   "execution_count": 4,
   "metadata": {},
   "outputs": [
    {
     "name": "stdout",
     "output_type": "stream",
     "text": [
      "Author Name, Number of Articles \n",
      "\n",
      "davidreiss666, 8897\n",
      "anutensil, 5730\n",
      "doremusjessup, 5037\n",
      "maxwellhill, 4023\n",
      "igeldard, 4013\n",
      "trot, 3298\n",
      "readerseven, 3170\n",
      "twolf1, 2923\n",
      "madam1, 2658\n",
      "nimobo, 2564\n",
      "madazzahatter, 2503\n",
      "ionised, 2493\n",
      "ninjadiscojesus, 2448\n",
      "bridgesfreezefirst, 2405\n",
      "solinvictus, 2181\n",
      "libertatea, 2108\n",
      "vigorous, 2077\n",
      "galt1776, 1897\n",
      "dougbolivar, 1770\n",
      "bob21doh, 1698\n"
     ]
    },
    {
     "data": {
      "image/png": "[encoded data removed]",
      "text/plain": [
       "<Figure size 432x288 with 1 Axes>"
      ]
     },
     "metadata": {
      "needs_background": "light"
     },
     "output_type": "display_data"
    }
   ],
   "source": [
    "from sklearn.feature_extraction.text import CountVectorizer\n",
    "def top_authors(corpus, n=None):\n",
    "    vec = CountVectorizer().fit(corpus)\n",
    "    authors = vec.transform(corpus)\n",
    "    sum_authors = authors.sum(axis=0) \n",
    "    authors_freq = [(author, sum_authors[0, idx]) for author, idx in vec.vocabulary_.items()]\n",
    "    authors_freq =sorted(authors_freq, key = lambda x: x[1], reverse=True)\n",
    "    return authors_freq[:n]\n",
    "\n",
    "common_authors = top_authors(df['author'], 20)\n",
    "\n",
    "print('Author Name, Number of Articles \\n')\n",
    "for author, freq in common_authors:\n",
    "    print(author +\",\", freq)\n",
    "\n",
    "plt.bar([v[0] for v in common_authors], [v[1] for v in common_authors])\n",
    "plt.title('Top 20 authors with most articles')\n",
    "plt.xticks(rotation = 90)\n",
    "plt.show()"
   ]
  },
  {
   "cell_type": "markdown",
   "metadata": {},
   "source": [
    "Out of the top 100 articles that received the most up_votes, what were the 10 most common words in their titles (not counting stop words)?"
   ]
  },
  {
   "cell_type": "code",
   "execution_count": 5,
   "metadata": {},
   "outputs": [
    {
     "name": "stdout",
     "output_type": "stream",
     "text": [
      "Word, Frequency \n",
      "\n",
      "saudi, 11\n",
      "new, 8\n",
      "world, 6\n",
      "just, 6\n",
      "arabia, 6\n",
      "company, 5\n",
      "global, 5\n",
      "say, 5\n",
      "government, 5\n",
      "china, 5\n"
     ]
    },
    {
     "data": {
      "image/png": "[encoded data removed]",
      "text/plain": [
       "<Figure size 432x288 with 1 Axes>"
      ]
     },
     "metadata": {
      "needs_background": "light"
     },
     "output_type": "display_data"
    }
   ],
   "source": [
    "def get_top_n_words(corpus, n=None):\n",
    "    vec = CountVectorizer(stop_words = 'english').fit(corpus)\n",
    "    bag_of_words = vec.transform(corpus)\n",
    "    sum_words = bag_of_words.sum(axis=0) \n",
    "    words_freq = [(word, sum_words[0, idx]) for word, idx in vec.vocabulary_.items()]\n",
    "    words_freq =sorted(words_freq, key = lambda x: x[1], reverse=True)\n",
    "    return words_freq[:n]\n",
    "\n",
    "top100articles = df.sort_values(by='up_votes', ascending=False).head(100)\n",
    "common_words1 = get_top_n_words(top100articles['title'], 10)\n",
    "\n",
    "print(\"Word, Frequency \\n\")\n",
    "for word, freq in common_words1:\n",
    "    print(word + \",\", freq)\n",
    "plt.bar([v[0] for v in common_words1], [v[1] for v in common_words1])\n",
    "plt.title('Top 10 Most Common Words in Titles from Most Liked Articles')\n",
    "plt.xticks(rotation = 90)\n",
    "plt.show()"
   ]
  },
  {
   "cell_type": "markdown",
   "metadata": {},
   "source": [
    "Out of the top 100 articles that received the least amount of  up_votes, what were the 10 most common words in their titles (not counting stop words)?"
   ]
  },
  {
   "cell_type": "code",
   "execution_count": 6,
   "metadata": {},
   "outputs": [
    {
     "name": "stdout",
     "output_type": "stream",
     "text": [
      "Word, Frequency \n",
      "\n",
      "china, 9\n",
      "assange, 7\n",
      "military, 6\n",
      "world, 6\n",
      "country, 6\n",
      "wikileaks, 6\n",
      "israeli, 6\n",
      "says, 5\n",
      "president, 5\n",
      "opposition, 5\n"
     ]
    },
    {
     "data": {
      "image/png": "[encoded data removed]",
      "text/plain": [
       "<Figure size 432x288 with 1 Axes>"
      ]
     },
     "metadata": {
      "needs_background": "light"
     },
     "output_type": "display_data"
    }
   ],
   "source": [
    "bottom100articles = df.sort_values(by='up_votes', ascending=True).head(100)\n",
    "common_words2 = get_top_n_words(bottom100articles['title'], 10)\n",
    "\n",
    "print(\"Word, Frequency \\n\")\n",
    "\n",
    "for word, freq in common_words2:\n",
    "    print(word + \",\", freq)\n",
    "plt.bar([v[0] for v in common_words2], [v[1] for v in common_words2])\n",
    "plt.title('Top 10 Most Common Words in Titles Least Liked Articles')\n",
    "plt.xticks(rotation = 90)\n",
    "plt.show()"
   ]
  },
  {
   "cell_type": "markdown",
   "metadata": {},
   "source": [
    "The two plots above have shown the most common words in titles from \n",
    "\n",
    "the most liked articles as: saudi, new, world, just, arabia, company, global, say, government, and china\n",
    "\n",
    "the least liked articles as: china, assange, military, world, country, wikileaks, israeli, says, president, and opposition.\n",
    "\n",
    "Many of the words from both lists are the same or similar, which may suggest to us that certain words in the titles do not necessarily correlate to articles that will receive more or less up_votes."
   ]
  },
  {
   "cell_type": "markdown",
   "metadata": {},
   "source": [
    "Are there certain months where articles receive more up-votes on average?"
   ]
  },
  {
   "cell_type": "code",
   "execution_count": 7,
   "metadata": {
    "scrolled": true
   },
   "outputs": [
    {
     "name": "stdout",
     "output_type": "stream",
     "text": [
      "Jun 5\n",
      "Aug 29\n",
      "Apr 12\n",
      "Mar 8\n",
      "Sep 11\n",
      "Oct 6\n",
      "May 5\n",
      "Nov 9\n",
      "Feb 3\n",
      "Jul 2\n",
      "Dec 8\n",
      "Jan 2\n"
     ]
    },
    {
     "data": {
      "text/plain": [
       "<BarContainer object of 12 artists>"
      ]
     },
     "execution_count": 7,
     "metadata": {},
     "output_type": "execute_result"
    },
    {
     "data": {
      "image/png": "[encoded data removed]",
      "text/plain": [
       "<Figure size 432x288 with 1 Axes>"
      ]
     },
     "metadata": {
      "needs_background": "light"
     },
     "output_type": "display_data"
    }
   ],
   "source": [
    "topMonthsList = []\n",
    "\n",
    "for i in top100articles['date_created']:\n",
    "    i = i.strftime(\"%b\")\n",
    "    topMonthsList.append(i)\n",
    "freq = {}   \n",
    "def CountFrequency(my_list):\n",
    "    for items in my_list:\n",
    "        freq[items] = my_list.count(items)   \n",
    "    for key, value in freq.items():\n",
    "        print(key,value)\n",
    "CountFrequency(topMonthsList)\n",
    "plt.bar(freq.keys(),freq.values())\n"
   ]
  },
  {
   "cell_type": "markdown",
   "metadata": {},
   "source": [
    "As can be seen by the plot above, the articles created in the month of August have significantly higher number of up_votes than those in the rest of the months. This shows that there may be a strong correlation between articles created in August and a higher overall number of up_votes per article."
   ]
  },
  {
   "cell_type": "markdown",
   "metadata": {},
   "source": [
    "Are there certain months where articles receive less up-votes on average?"
   ]
  },
  {
   "cell_type": "code",
   "execution_count": 8,
   "metadata": {},
   "outputs": [
    {
     "name": "stdout",
     "output_type": "stream",
     "text": [
      "Jun 5\n",
      "Aug 16\n",
      "Apr 1\n",
      "Mar 8\n",
      "Sep 32\n",
      "Oct 6\n",
      "May 5\n",
      "Nov 9\n",
      "Feb 3\n",
      "Jul 2\n",
      "Dec 28\n",
      "Jan 23\n"
     ]
    },
    {
     "data": {
      "text/plain": [
       "<BarContainer object of 12 artists>"
      ]
     },
     "execution_count": 8,
     "metadata": {},
     "output_type": "execute_result"
    },
    {
     "data": {
      "image/png": "[encoded data removed]",
      "text/plain": [
       "<Figure size 432x288 with 1 Axes>"
      ]
     },
     "metadata": {
      "needs_background": "light"
     },
     "output_type": "display_data"
    }
   ],
   "source": [
    "bottomMonthsList = []\n",
    "\n",
    "for i in bottom100articles['date_created']:\n",
    "    i = i.strftime(\"%b\")\n",
    "    bottomMonthsList.append(i)\n",
    "    \n",
    "CountFrequency(bottomMonthsList)\n",
    "plt.bar(freq.keys(),freq.values())"
   ]
  },
  {
   "cell_type": "markdown",
   "metadata": {},
   "source": [
    "The plot above shows the articled created in the months of September, December, and January to have lower up_votes than articles created in other months. This may suggest that people are less likely to up_vote an article if it is creted toward the winter time."
   ]
  },
  {
   "cell_type": "markdown",
   "metadata": {},
   "source": [
    "Is there a correlation between the length of the article title and the number of up_votes it receives?"
   ]
  },
  {
   "cell_type": "markdown",
   "metadata": {},
   "source": [
    "1. Linear Regression"
   ]
  },
  {
   "cell_type": "code",
   "execution_count": 46,
   "metadata": {
    "scrolled": true
   },
   "outputs": [],
   "source": [
    "top100articles['title_length'] = top100articles['title'].str.len()\n",
    "\n",
    "#splitting dataset into testing and training datasets\n",
    "\n",
    "from sklearn.model_selection import train_test_split\n",
    "\n",
    "x = top100articles['title_length'].values.reshape(-1, 1)\n",
    "y = top100articles['up_votes'].values.reshape(-1, 1)\n",
    "\n",
    "x_train, x_test, y_train, y_test = train_test_split(x, y, test_size=0.2, random_state=0)"
   ]
  },
  {
   "cell_type": "code",
   "execution_count": 67,
   "metadata": {
    "scrolled": true
   },
   "outputs": [
    {
     "data": {
      "image/png": "[encoded data removed]",
      "text/plain": [
       "<Figure size 432x288 with 1 Axes>"
      ]
     },
     "metadata": {
      "needs_background": "light"
     },
     "output_type": "display_data"
    }
   ],
   "source": [
    "from sklearn.linear_model import LinearRegression\n",
    "\n",
    "regressor = LinearRegression()  # create object for the class\n",
    "LinMod = regressor.fit(x_train, y_train)  # perform linear regression\n",
    "y_pred = regressor.predict(x_test) #make predictions\n",
    "\n",
    "plt.scatter(x_train, y_train)\n",
    "plt.plot(x_test, y_pred, color='red')\n",
    "plt.title('Linear Regression')\n",
    "plt.xlabel('Title Length')\n",
    "plt.ylabel('Up Votes')\n",
    "plt.show()"
   ]
  },
  {
   "cell_type": "code",
   "execution_count": 57,
   "metadata": {},
   "outputs": [
    {
     "name": "stdout",
     "output_type": "stream",
     "text": [
      "Coefficient of Determination: 0.06774925458301695\n",
      "Intercept: [8148.14565525]\n",
      "Slope: [[5.6675831]]\n",
      "Mean Absolute Error: 932.1652908361905\n",
      "Mean Squared Error: 1493543.0480107623\n",
      "Root Mean Squared Error: 1222.1059888613436\n"
     ]
    }
   ],
   "source": [
    "from sklearn import metrics\n",
    "#results of the Linear Regression Model\n",
    "\n",
    "r_sq = LinMod.score(x, y)\n",
    "print('Coefficient of Determination:', r_sq)\n",
    "print('Intercept:', LinMod.intercept_)\n",
    "print('Slope:', LinMod.coef_)\n",
    "print('Mean Absolute Error:', metrics.mean_absolute_error(y_test, y_pred))\n",
    "print('Mean Squared Error:', metrics.mean_squared_error(y_test, y_pred))\n",
    "print('Root Mean Squared Error:', np.sqrt(metrics.mean_squared_error(y_test, y_pred)))"
   ]
  },
  {
   "cell_type": "markdown",
   "metadata": {},
   "source": [
    "The Coefficient of Determination is extremely low and the Mean Squared Error is extremely high, which shows that this model is not a good fit for the data. Let's try a polynomial regression model to see if that is a better fit."
   ]
  },
  {
   "cell_type": "code",
   "execution_count": 79,
   "metadata": {},
   "outputs": [
    {
     "data": {
      "text/plain": [
       "Text(0, 0.5, 'Up Votes')"
      ]
     },
     "execution_count": 79,
     "metadata": {},
     "output_type": "execute_result"
    },
    {
     "data": {
      "image/png": "[encoded data removed]",
      "text/plain": [
       "<Figure size 432x288 with 1 Axes>"
      ]
     },
     "metadata": {
      "needs_background": "light"
     },
     "output_type": "display_data"
    }
   ],
   "source": [
    "from sklearn.preprocessing import PolynomialFeatures\n",
    "\n",
    "poly = PolynomialFeatures(degree = 2)\n",
    "x_poly = poly.fit_transform(x)\n",
    "  \n",
    "poly.fit(x_poly, y)\n",
    "regressor2 = LinearRegression()\n",
    "PolyMod = regressor2.fit(x_poly, y)\n",
    "\n",
    "plt.scatter(x, y, color = 'blue')\n",
    "plt.plot(x, regressor2.predict(x_poly), color = 'blue')\n",
    "plt.title('Polynomial Regression')\n",
    "plt.xlabel('Title Length')\n",
    "plt.ylabel('Up Votes')\n"
   ]
  },
  {
   "cell_type": "markdown",
   "metadata": {},
   "source": [
    "This model also does not seem to be much of a better fit for the data. Thereofore, there does not seem to be any linear or polynomial(degree = 2) correlations between the length of the title and the number of up-votes received."
   ]
  },
  {
   "cell_type": "markdown",
   "metadata": {},
   "source": [
    "SUMMARY OF FINDINGS:\n",
    "\n",
    "In this report we have discovered who the authors who wrote the most articles were as well as the number of articles they wrote. \n",
    "\n",
    "Then we identified the top 100 articles that received the most and least up-votes in order to determine the 10 most common words in their titles to see if certain words in titles led to more or less people giving the articles up-votes. From this we discovered that many of the title words from both the most up-voted articles and the least up-voted articles were the same or similar, which suggested that there most likely is no correlation between the article titles and the amount of up-votes received.\n",
    "\n",
    "We then investigated which months articles were created in to determine if creation during certain months would lead to more or less up-votes. From this we determined that articles created in August had a significantly higher amount of up-votes overall when compared to other months and articles created in September, December, and January have lower up-votes overall. This suggests that there may be a correlation between when the article is created and how many up-votes it receives.\n",
    "\n",
    "We then conducted a linear regression as well as a polynomial regression of degree = 2 in order to determine if there is a linear or polynomial trend among the data of the length of the article titles and the amount of up-votes received. Both of these models did not fit the data well and indicated that there most likely is no correlation between the length of the article titles and the amount of up-votes received.\n",
    "\n",
    "Overall, if I were to make any suggestions to future authors that are writing articles of a similar nature, it would be to not worry about article titles as much and to focus on writing more articles around August rather than the winter time. However, the higher or lower amount of overall up-votes in certain months may also have been caused by important global events occuring in those months. Therefore, more data needs to be collected, and more analysis needs to be done in order to be confident that the article creation date has an effect on the number of up-votes it will receive."
   ]
  }
 ],
 "metadata": {
  "kernelspec": {
   "display_name": "Python 3",
   "language": "python",
   "name": "python3"
  },
  "language_info": {
   "codemirror_mode": {
    "name": "ipython",
    "version": 3
   },
   "file_extension": ".py",
   "mimetype": "text/x-python",
   "name": "python",
   "nbconvert_exporter": "python",
   "pygments_lexer": "ipython3",
   "version": "3.8.5"
  }
 },
 "nbformat": 4,
 "nbformat_minor": 4
}
